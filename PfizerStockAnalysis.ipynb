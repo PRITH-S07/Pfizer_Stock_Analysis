{
  "nbformat": 4,
  "nbformat_minor": 0,
  "metadata": {
    "colab": {
      "name": "PfizerStockAnalysis.ipynb",
      "provenance": [],
      "collapsed_sections": []
    },
    "kernelspec": {
      "name": "python3",
      "display_name": "Python 3"
    },
    "language_info": {
      "name": "python"
    }
  },
  "cells": [
    {
      "cell_type": "markdown",
      "metadata": {
        "id": "9ZOmn10xt0_c"
      },
      "source": [
        "##1st step of reading the data in"
      ]
    },
    {
      "cell_type": "code",
      "metadata": {
        "id": "I6bTJx8ztP0U"
      },
      "source": [
        "import numpy as np\n",
        "import matplotlib.pyplot as plt\n",
        "import pandas as pd"
      ],
      "execution_count": 14,
      "outputs": []
    },
    {
      "cell_type": "code",
      "metadata": {
        "colab": {
          "base_uri": "https://localhost:8080/",
          "height": 206
        },
        "id": "8Y3XZmuzts75",
        "outputId": "19951316-e344-40e7-9f47-4702ed670e23"
      },
      "source": [
        "df=pd.read_csv('PFE.csv')\n",
        "df.head()"
      ],
      "execution_count": 15,
      "outputs": [
        {
          "output_type": "execute_result",
          "data": {
            "text/html": [
              "<div>\n",
              "<style scoped>\n",
              "    .dataframe tbody tr th:only-of-type {\n",
              "        vertical-align: middle;\n",
              "    }\n",
              "\n",
              "    .dataframe tbody tr th {\n",
              "        vertical-align: top;\n",
              "    }\n",
              "\n",
              "    .dataframe thead th {\n",
              "        text-align: right;\n",
              "    }\n",
              "</style>\n",
              "<table border=\"1\" class=\"dataframe\">\n",
              "  <thead>\n",
              "    <tr style=\"text-align: right;\">\n",
              "      <th></th>\n",
              "      <th>Date</th>\n",
              "      <th>Open</th>\n",
              "      <th>High</th>\n",
              "      <th>Low</th>\n",
              "      <th>Close</th>\n",
              "      <th>Adj Close</th>\n",
              "      <th>Volume</th>\n",
              "    </tr>\n",
              "  </thead>\n",
              "  <tbody>\n",
              "    <tr>\n",
              "      <th>0</th>\n",
              "      <td>2012-11-26</td>\n",
              "      <td>23.092979</td>\n",
              "      <td>23.263758</td>\n",
              "      <td>23.064516</td>\n",
              "      <td>23.235294</td>\n",
              "      <td>17.072605</td>\n",
              "      <td>37703793</td>\n",
              "    </tr>\n",
              "    <tr>\n",
              "      <th>1</th>\n",
              "      <td>2012-11-27</td>\n",
              "      <td>23.017078</td>\n",
              "      <td>23.197344</td>\n",
              "      <td>22.979128</td>\n",
              "      <td>23.007589</td>\n",
              "      <td>16.905291</td>\n",
              "      <td>32539826</td>\n",
              "    </tr>\n",
              "    <tr>\n",
              "      <th>2</th>\n",
              "      <td>2012-11-28</td>\n",
              "      <td>22.988615</td>\n",
              "      <td>23.425047</td>\n",
              "      <td>22.912712</td>\n",
              "      <td>23.406073</td>\n",
              "      <td>17.198086</td>\n",
              "      <td>31162248</td>\n",
              "    </tr>\n",
              "    <tr>\n",
              "      <th>3</th>\n",
              "      <td>2012-11-29</td>\n",
              "      <td>23.444023</td>\n",
              "      <td>23.652752</td>\n",
              "      <td>23.444023</td>\n",
              "      <td>23.576851</td>\n",
              "      <td>17.323576</td>\n",
              "      <td>33352881</td>\n",
              "    </tr>\n",
              "    <tr>\n",
              "      <th>4</th>\n",
              "      <td>2012-11-30</td>\n",
              "      <td>23.633776</td>\n",
              "      <td>23.795067</td>\n",
              "      <td>23.453510</td>\n",
              "      <td>23.738140</td>\n",
              "      <td>17.442074</td>\n",
              "      <td>39200895</td>\n",
              "    </tr>\n",
              "  </tbody>\n",
              "</table>\n",
              "</div>"
            ],
            "text/plain": [
              "         Date       Open       High        Low      Close  Adj Close    Volume\n",
              "0  2012-11-26  23.092979  23.263758  23.064516  23.235294  17.072605  37703793\n",
              "1  2012-11-27  23.017078  23.197344  22.979128  23.007589  16.905291  32539826\n",
              "2  2012-11-28  22.988615  23.425047  22.912712  23.406073  17.198086  31162248\n",
              "3  2012-11-29  23.444023  23.652752  23.444023  23.576851  17.323576  33352881\n",
              "4  2012-11-30  23.633776  23.795067  23.453510  23.738140  17.442074  39200895"
            ]
          },
          "metadata": {
            "tags": []
          },
          "execution_count": 15
        }
      ]
    },
    {
      "cell_type": "code",
      "metadata": {
        "colab": {
          "base_uri": "https://localhost:8080/",
          "height": 206
        },
        "id": "54syd0d4twdp",
        "outputId": "04af8076-5d78-4d25-9dd5-6fcdc93f70bb"
      },
      "source": [
        "df.tail()"
      ],
      "execution_count": 16,
      "outputs": [
        {
          "output_type": "execute_result",
          "data": {
            "text/html": [
              "<div>\n",
              "<style scoped>\n",
              "    .dataframe tbody tr th:only-of-type {\n",
              "        vertical-align: middle;\n",
              "    }\n",
              "\n",
              "    .dataframe tbody tr th {\n",
              "        vertical-align: top;\n",
              "    }\n",
              "\n",
              "    .dataframe thead th {\n",
              "        text-align: right;\n",
              "    }\n",
              "</style>\n",
              "<table border=\"1\" class=\"dataframe\">\n",
              "  <thead>\n",
              "    <tr style=\"text-align: right;\">\n",
              "      <th></th>\n",
              "      <th>Date</th>\n",
              "      <th>Open</th>\n",
              "      <th>High</th>\n",
              "      <th>Low</th>\n",
              "      <th>Close</th>\n",
              "      <th>Adj Close</th>\n",
              "      <th>Volume</th>\n",
              "    </tr>\n",
              "  </thead>\n",
              "  <tbody>\n",
              "    <tr>\n",
              "      <th>2156</th>\n",
              "      <td>2021-06-21</td>\n",
              "      <td>38.880001</td>\n",
              "      <td>39.480000</td>\n",
              "      <td>38.880001</td>\n",
              "      <td>39.419998</td>\n",
              "      <td>39.419998</td>\n",
              "      <td>19488100</td>\n",
              "    </tr>\n",
              "    <tr>\n",
              "      <th>2157</th>\n",
              "      <td>2021-06-22</td>\n",
              "      <td>39.410000</td>\n",
              "      <td>39.689999</td>\n",
              "      <td>39.259998</td>\n",
              "      <td>39.610001</td>\n",
              "      <td>39.610001</td>\n",
              "      <td>15975900</td>\n",
              "    </tr>\n",
              "    <tr>\n",
              "      <th>2158</th>\n",
              "      <td>2021-06-23</td>\n",
              "      <td>39.630001</td>\n",
              "      <td>39.660000</td>\n",
              "      <td>38.980000</td>\n",
              "      <td>39.049999</td>\n",
              "      <td>39.049999</td>\n",
              "      <td>22025400</td>\n",
              "    </tr>\n",
              "    <tr>\n",
              "      <th>2159</th>\n",
              "      <td>2021-06-24</td>\n",
              "      <td>39.139999</td>\n",
              "      <td>39.349998</td>\n",
              "      <td>39.080002</td>\n",
              "      <td>39.189999</td>\n",
              "      <td>39.189999</td>\n",
              "      <td>13429200</td>\n",
              "    </tr>\n",
              "    <tr>\n",
              "      <th>2160</th>\n",
              "      <td>2021-06-25</td>\n",
              "      <td>39.119999</td>\n",
              "      <td>39.404999</td>\n",
              "      <td>38.889999</td>\n",
              "      <td>38.980000</td>\n",
              "      <td>38.980000</td>\n",
              "      <td>21742080</td>\n",
              "    </tr>\n",
              "  </tbody>\n",
              "</table>\n",
              "</div>"
            ],
            "text/plain": [
              "            Date       Open       High  ...      Close  Adj Close    Volume\n",
              "2156  2021-06-21  38.880001  39.480000  ...  39.419998  39.419998  19488100\n",
              "2157  2021-06-22  39.410000  39.689999  ...  39.610001  39.610001  15975900\n",
              "2158  2021-06-23  39.630001  39.660000  ...  39.049999  39.049999  22025400\n",
              "2159  2021-06-24  39.139999  39.349998  ...  39.189999  39.189999  13429200\n",
              "2160  2021-06-25  39.119999  39.404999  ...  38.980000  38.980000  21742080\n",
              "\n",
              "[5 rows x 7 columns]"
            ]
          },
          "metadata": {
            "tags": []
          },
          "execution_count": 16
        }
      ]
    },
    {
      "cell_type": "code",
      "metadata": {
        "colab": {
          "base_uri": "https://localhost:8080/"
        },
        "id": "uKRchnJSt0BJ",
        "outputId": "a29b5c0b-ce56-4d3f-d7d4-f37b477a27b6"
      },
      "source": [
        "df.info()"
      ],
      "execution_count": 17,
      "outputs": [
        {
          "output_type": "stream",
          "text": [
            "<class 'pandas.core.frame.DataFrame'>\n",
            "RangeIndex: 2161 entries, 0 to 2160\n",
            "Data columns (total 7 columns):\n",
            " #   Column     Non-Null Count  Dtype  \n",
            "---  ------     --------------  -----  \n",
            " 0   Date       2161 non-null   object \n",
            " 1   Open       2161 non-null   float64\n",
            " 2   High       2161 non-null   float64\n",
            " 3   Low        2161 non-null   float64\n",
            " 4   Close      2161 non-null   float64\n",
            " 5   Adj Close  2161 non-null   float64\n",
            " 6   Volume     2161 non-null   int64  \n",
            "dtypes: float64(5), int64(1), object(1)\n",
            "memory usage: 118.3+ KB\n"
          ],
          "name": "stdout"
        }
      ]
    },
    {
      "cell_type": "markdown",
      "metadata": {
        "id": "2u_-P8EjvQ9J"
      },
      "source": [
        "##Visualization"
      ]
    },
    {
      "cell_type": "code",
      "metadata": {
        "colab": {
          "base_uri": "https://localhost:8080/",
          "height": 395
        },
        "id": "mAS64HB-vG6d",
        "outputId": "693a230b-6c3d-4d3c-8551-756b3b191808"
      },
      "source": [
        "df['Open'].plot(figsize=(16,6))"
      ],
      "execution_count": 18,
      "outputs": [
        {
          "output_type": "execute_result",
          "data": {
            "text/plain": [
              "<matplotlib.axes._subplots.AxesSubplot at 0x7f4691d7bd90>"
            ]
          },
          "metadata": {
            "tags": []
          },
          "execution_count": 18
        },
        {
          "output_type": "display_data",
          "data": {
            "image/png": "[encoded data removed]",
            "text/plain": [
              "<Figure size 1152x432 with 1 Axes>"
            ]
          },
          "metadata": {
            "tags": [],
            "needs_background": "light"
          }
        }
      ]
    },
    {
      "cell_type": "code",
      "metadata": {
        "colab": {
          "base_uri": "https://localhost:8080/"
        },
        "id": "ZlR6e_dWwDe-",
        "outputId": "9115169d-b1e8-4e1e-e559-838b794a0ce0"
      },
      "source": [
        "df.iloc[:, 1:2].values.shape"
      ],
      "execution_count": 19,
      "outputs": [
        {
          "output_type": "execute_result",
          "data": {
            "text/plain": [
              "(2161, 1)"
            ]
          },
          "metadata": {
            "tags": []
          },
          "execution_count": 19
        }
      ]
    },
    {
      "cell_type": "code",
      "metadata": {
        "colab": {
          "base_uri": "https://localhost:8080/"
        },
        "id": "IwJUjnM06Zw3",
        "outputId": "8a829f9c-ccac-444d-8870-a82db8f7af0c"
      },
      "source": [
        "import math\n",
        "math.floor(98/100*2161)-1"
      ],
      "execution_count": 77,
      "outputs": [
        {
          "output_type": "execute_result",
          "data": {
            "text/plain": [
              "2116"
            ]
          },
          "metadata": {
            "tags": []
          },
          "execution_count": 77
        }
      ]
    },
    {
      "cell_type": "markdown",
      "metadata": {
        "id": "d7q1bIShrfdk"
      },
      "source": [
        "##Getting the training data ready"
      ]
    },
    {
      "cell_type": "markdown",
      "metadata": {
        "id": "OiViKc_Pr9aE"
      },
      "source": [
        "Approximately using 98% for training and around 2% for testing."
      ]
    },
    {
      "cell_type": "code",
      "metadata": {
        "colab": {
          "base_uri": "https://localhost:8080/"
        },
        "id": "8l4gRzGGwOJ0",
        "outputId": "b509cc90-5916-4f20-814d-c0e19a1eb4e6"
      },
      "source": [
        "98/100*2161"
      ],
      "execution_count": 78,
      "outputs": [
        {
          "output_type": "execute_result",
          "data": {
            "text/plain": [
              "2117.7799999999997"
            ]
          },
          "metadata": {
            "tags": []
          },
          "execution_count": 78
        }
      ]
    },
    {
      "cell_type": "code",
      "metadata": {
        "id": "4ESt-8ex6qmF"
      },
      "source": [
        "val=math.floor(98/100*len(df))-1"
      ],
      "execution_count": 79,
      "outputs": []
    },
    {
      "cell_type": "code",
      "metadata": {
        "id": "Olcyq_LpwV7K"
      },
      "source": [
        "train_data=df.iloc[:val, 1:2].values"
      ],
      "execution_count": 80,
      "outputs": []
    },
    {
      "cell_type": "markdown",
      "metadata": {
        "id": "pAs6q5g5sPiE"
      },
      "source": [
        "##Feature Scaling"
      ]
    },
    {
      "cell_type": "code",
      "metadata": {
        "id": "aqIE5o9psJM8"
      },
      "source": [
        "from sklearn.preprocessing import MinMaxScaler\n",
        "scaler = MinMaxScaler(feature_range = (0, 1))\n",
        "train_s = scaler.fit_transform(train_data)"
      ],
      "execution_count": 22,
      "outputs": []
    },
    {
      "cell_type": "markdown",
      "metadata": {
        "id": "12QM0xECsgPs"
      },
      "source": [
        "##Creating data with timestamps"
      ]
    },
    {
      "cell_type": "code",
      "metadata": {
        "id": "DmFjKIgvsd6r"
      },
      "source": [
        "X_train = []\n",
        "y_train = []\n",
        "for i in range(60, val):\n",
        "    X_train.append(train_s[i-60:i, 0])\n",
        "    y_train.append(train_s[i, 0])\n",
        "X_train, y_train = np.array(X_train), np.array(y_train)\n",
        "\n",
        "X_train = np.reshape(X_train, (X_train.shape[0], X_train.shape[1], 1))"
      ],
      "execution_count": 83,
      "outputs": []
    },
    {
      "cell_type": "markdown",
      "metadata": {
        "id": "qJefWymptZlk"
      },
      "source": [
        "##Creating our LSTM model"
      ]
    },
    {
      "cell_type": "code",
      "metadata": {
        "id": "MnabF_wxsu5d"
      },
      "source": [
        "from keras.models import Sequential\n",
        "from keras.layers import Dense\n",
        "from keras.layers import LSTM\n",
        "from keras.layers import Dropout"
      ],
      "execution_count": 82,
      "outputs": []
    },
    {
      "cell_type": "code",
      "metadata": {
        "id": "e_2KogO4tcSO"
      },
      "source": [
        "seq = Sequential()\n",
        "seq.add(LSTM(units = 50, return_sequences = True, input_shape = (X_train.shape[1], 1)))\n",
        "seq.add(Dropout(0.2))\n",
        "\n",
        "seq.add(LSTM(units = 50, return_sequences = True))\n",
        "seq.add(Dropout(0.2))\n",
        "\n",
        "seq.add(LSTM(units = 50, return_sequences = True))\n",
        "seq.add(Dropout(0.2))\n",
        "\n",
        "seq.add(LSTM(units = 50))\n",
        "seq.add(Dropout(0.2))\n",
        "\n",
        "seq.add(Dense(units = 1))\n",
        "\n",
        "seq.compile(optimizer = 'adam', loss = 'mean_squared_error')\n",
        "\n",
        "seq.fit(X_train, y_train, epochs = 100, batch_size = 32)"
      ],
      "execution_count": null,
      "outputs": []
    },
    {
      "cell_type": "markdown",
      "metadata": {
        "id": "Kf4kQnbJu3MY"
      },
      "source": [
        "##Defining our test data"
      ]
    },
    {
      "cell_type": "code",
      "metadata": {
        "id": "L3FR3hhAt_dt"
      },
      "source": [
        "test_data=df.iloc[val:, 1:2].values"
      ],
      "execution_count": 84,
      "outputs": []
    },
    {
      "cell_type": "code",
      "metadata": {
        "id": "2q5lyTrTu2jl"
      },
      "source": [
        "inputs = df[len(df) - (len(df)-val) - 60:]['Open'].values\n",
        "inputs = inputs.reshape(-1,1)\n",
        "inputs = scaler.transform(inputs)\n",
        "X_test = []\n",
        "for i in range(60, (len(df)-val+1)+60):\n",
        "    X_test.append(inputs[i-60:i, 0])\n",
        "X_test = np.array(X_test)\n",
        "X_test = np.reshape(X_test, (X_test.shape[0], X_test.shape[1], 1))\n",
        "predicted_stock_price = seq.predict(X_test)\n",
        "predicted_stock_price = scaler.inverse_transform(predicted_stock_price)"
      ],
      "execution_count": 93,
      "outputs": []
    },
    {
      "cell_type": "markdown",
      "metadata": {
        "id": "La7H1D_e3yzE"
      },
      "source": [
        "##Checking out the results."
      ]
    },
    {
      "cell_type": "code",
      "metadata": {
        "colab": {
          "base_uri": "https://localhost:8080/",
          "height": 295
        },
        "id": "yhoyJd8y0ZGt",
        "outputId": "74549531-310e-446f-9d5f-3f70561d8abe"
      },
      "source": [
        "plt.plot(df.iloc[2116:, 1:2].values, color = 'black', label = 'Pfizer Stock Price')\n",
        "plt.plot(predicted_stock_price, color = 'blue', label = 'Predicted Pfizer Stock Price')\n",
        "plt.title('Pfizer Stock Price Prediction')\n",
        "plt.xlabel('Time')\n",
        "plt.ylabel('Pfizer Stock Price')\n",
        "plt.legend()\n",
        "plt.show()"
      ],
      "execution_count": 94,
      "outputs": [
        {
          "output_type": "display_data",
          "data": {
            "image/png": "[encoded data removed]",
            "text/plain": [
              "<Figure size 432x288 with 1 Axes>"
            ]
          },
          "metadata": {
            "tags": [],
            "needs_background": "light"
          }
        }
      ]
    },
    {
      "cell_type": "markdown",
      "metadata": {
        "id": "WOzKrony9l3T"
      },
      "source": [
        "##Deployment"
      ]
    },
    {
      "cell_type": "code",
      "metadata": {
        "colab": {
          "base_uri": "https://localhost:8080/"
        },
        "id": "JJdwFmxB3Isx",
        "outputId": "a924e85a-1e20-4f68-8f2d-ae0aa7db9a0d"
      },
      "source": [
        "!pip install Flask"
      ],
      "execution_count": 101,
      "outputs": [
        {
          "output_type": "stream",
          "text": [
            "Requirement already satisfied: Flask in /usr/local/lib/python3.7/dist-packages (1.1.4)\n",
            "Requirement already satisfied: Werkzeug<2.0,>=0.15 in /usr/local/lib/python3.7/dist-packages (from Flask) (1.0.1)\n",
            "Requirement already satisfied: itsdangerous<2.0,>=0.24 in /usr/local/lib/python3.7/dist-packages (from Flask) (1.1.0)\n",
            "Requirement already satisfied: click<8.0,>=5.1 in /usr/local/lib/python3.7/dist-packages (from Flask) (7.1.2)\n",
            "Requirement already satisfied: Jinja2<3.0,>=2.10.1 in /usr/local/lib/python3.7/dist-packages (from Flask) (2.11.3)\n",
            "Requirement already satisfied: MarkupSafe>=0.23 in /usr/local/lib/python3.7/dist-packages (from Jinja2<3.0,>=2.10.1->Flask) (2.0.1)\n"
          ],
          "name": "stdout"
        }
      ]
    },
    {
      "cell_type": "code",
      "metadata": {
        "id": "kb5KXIaqAjd1"
      },
      "source": [
        ""
      ],
      "execution_count": null,
      "outputs": []
    }
  ]
}